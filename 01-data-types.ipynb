{
 "cells": [
  {
   "cell_type": "code",
   "execution_count": 3,
   "metadata": {},
   "outputs": [
    {
     "name": "stdout",
     "output_type": "stream",
     "text": [
      "3\n",
      "<class 'int'>\n",
      "4\n",
      "2\n",
      "6\n",
      "9\n",
      "0\n"
     ]
    }
   ],
   "source": [
    "x = 3   \n",
    "print(x)       # Prints \"3\"\n",
    "print(type(x)) # Prints \"<class 'int'>\"\n",
    "print(x + 1)   # Addition; returns \"4\"\n",
    "print(x - 1)   # Subtraction; returns \"2\"\n",
    "print(x * 2)   # Multiplication; returns \"6\"\n",
    "print(x ** 2)  # Exponentiation; returns \"9\"\n",
    "x += 1         # Returns \"4\"\n",
    "x *= 2         # Returns \"8\"\n",
    "print(x % 4)   # Modulo operation; returns \"3\""
   ]
  },
  {
   "cell_type": "code",
   "execution_count": 4,
   "metadata": {},
   "outputs": [
    {
     "data": {
      "text/plain": [
       "(2.5, 3.5, 5.0, 6.25)"
      ]
     },
     "execution_count": 4,
     "metadata": {},
     "output_type": "execute_result"
    }
   ],
   "source": [
    "y = 2.5\n",
    "type(y)                 # Returns \"<class 'float'>\"\n",
    "y, y + 1, y * 2, y ** 2 # Returns \"(2.5, 3.5, 5.0, 6.25)\""
   ]
  },
  {
   "cell_type": "code",
   "execution_count": 6,
   "metadata": {},
   "outputs": [
    {
     "name": "stdout",
     "output_type": "stream",
     "text": [
      "1.5\n",
      "1\n",
      "3.3333333333333335\n",
      "-2\n",
      "1.0\n",
      "-2.0\n"
     ]
    }
   ],
   "source": [
    "print(3 / 2)       # Float division in Python 3, returns \"1.5\"; integer division in Python 2, returns \"1\"\n",
    "print(3 // 2)      # Integer division in both Python 2 and 3, returns \"1\"\n",
    "print(10.0 / 3)    # Float division in both Python 2 and 3, returns \"3.33..\"\n",
    "\n",
    "# Integer division rounds down for both positive and negative numbers\n",
    "print(-5 // 3)     # -2\n",
    "print(5.0 // 3.0)  # 1.0\n",
    "print(-5.0 // 3.0) # -2.0"
   ]
  },
  {
   "cell_type": "code",
   "execution_count": 7,
   "metadata": {},
   "outputs": [
    {
     "data": {
      "text/plain": [
       "1000000"
      ]
     },
     "execution_count": 7,
     "metadata": {},
     "output_type": "execute_result"
    }
   ],
   "source": [
    "large_num = 1_000_000\n",
    "large_num # Returns 1000000"
   ]
  },
  {
   "cell_type": "code",
   "execution_count": 9,
   "metadata": {},
   "outputs": [
    {
     "name": "stdout",
     "output_type": "stream",
     "text": [
      "<class 'bool'>\n",
      "False\n",
      "True\n",
      "False\n",
      "True\n"
     ]
    }
   ],
   "source": [
    "t = True\n",
    "f = False\n",
    "print(type(t)) # Returns \"<class 'bool'>\"\n",
    "print(t and f) # Logical AND; returns \"False\"\n",
    "print(t or f)  # Logical OR; returns \"True\"\n",
    "print(not t)   # Logical NOT; returns \"False\"\n",
    "print(t != f)  # Logical XOR; returns \"True\""
   ]
  },
  {
   "cell_type": "code",
   "execution_count": 11,
   "metadata": {},
   "outputs": [
    {
     "name": "stdout",
     "output_type": "stream",
     "text": [
      "2\n",
      "8\n",
      "-5\n"
     ]
    }
   ],
   "source": [
    "print(True + True) # Returns 2\n",
    "print(True * 8)    # Returns 8\n",
    "print(False - 5)   # Returns -5"
   ]
  },
  {
   "cell_type": "code",
   "execution_count": 12,
   "metadata": {},
   "outputs": [
    {
     "name": "stdout",
     "output_type": "stream",
     "text": [
      "True\n",
      "True\n",
      "False\n",
      "True\n"
     ]
    }
   ],
   "source": [
    "print(0 == False)  # Returns True\n",
    "print(1 == True)   # Returns True\n",
    "print(2 == True)   # Returns False\n",
    "print(-5 != False) # Returns True"
   ]
  },
  {
   "cell_type": "code",
   "execution_count": 13,
   "metadata": {},
   "outputs": [
    {
     "name": "stdout",
     "output_type": "stream",
     "text": [
      "False\n",
      "False\n",
      "False\n",
      "False\n",
      "False\n"
     ]
    }
   ],
   "source": [
    "print(bool(0))  # Returns False\n",
    "print(bool(\"\")) # Returns False\n",
    "print(bool([])) # Returns False\n",
    "print(bool({})) # Returns False\n",
    "print(bool(())) # Returns False"
   ]
  },
  {
   "cell_type": "code",
   "execution_count": 14,
   "metadata": {},
   "outputs": [
    {
     "name": "stdout",
     "output_type": "stream",
     "text": [
      "True\n",
      "False\n",
      "False\n",
      "True\n",
      "True\n",
      "False\n",
      "True\n",
      "True\n",
      "True\n",
      "False\n",
      "True\n",
      "False\n"
     ]
    }
   ],
   "source": [
    "# Equality is ==\n",
    "print(1 == 1) # Returns True\n",
    "print(2 == 1) # Returns False\n",
    "\n",
    "# Inequality is !=\n",
    "print(1 != 1) # Returns False\n",
    "print(2 != 1)# Returns True\n",
    "\n",
    "# More comparisons\n",
    "print(1 < 10) # Returns True\n",
    "print(1 > 10) # Returns False\n",
    "print(2 <= 2) # Returns True\n",
    "print(2 >= 2) # Returns True\n",
    "\n",
    "# Seeing whether a value is in a range\n",
    "print(1 < 2 and 2 < 3) # Returns True\n",
    "print(2 < 3 and 3 < 2) # Returns False\n",
    "\n",
    "# Chaining makes the above look nicer\n",
    "print(1 < 2 < 3) # Returns True\n",
    "print(2 < 3 < 2) # Returns False"
   ]
  },
  {
   "cell_type": "code",
   "execution_count": 15,
   "metadata": {},
   "outputs": [
    {
     "name": "stdout",
     "output_type": "stream",
     "text": [
      "False\n",
      "True\n",
      "True\n"
     ]
    }
   ],
   "source": [
    "print(bool(0))  # Returns False\n",
    "print(bool(4))  # Returns True\n",
    "print(bool(-6)) # Returns True"
   ]
  },
  {
   "cell_type": "code",
   "execution_count": 16,
   "metadata": {},
   "outputs": [
    {
     "name": "stdout",
     "output_type": "stream",
     "text": [
      "0\n",
      "-5\n"
     ]
    }
   ],
   "source": [
    "print(0 and 2) # Returns 0\n",
    "print(-5 or 0) # Returns -5"
   ]
  },
  {
   "cell_type": "code",
   "execution_count": null,
   "metadata": {},
   "outputs": [],
   "source": []
  }
 ],
 "metadata": {
  "kernelspec": {
   "display_name": "Python 3",
   "language": "python",
   "name": "python3"
  },
  "language_info": {
   "codemirror_mode": {
    "name": "ipython",
    "version": 3
   },
   "file_extension": ".py",
   "mimetype": "text/x-python",
   "name": "python",
   "nbconvert_exporter": "python",
   "pygments_lexer": "ipython3",
   "version": "3.11.9"
  }
 },
 "nbformat": 4,
 "nbformat_minor": 2
}
